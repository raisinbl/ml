{
 "cells": [
  {
   "attachments": {},
   "cell_type": "markdown",
   "metadata": {},
   "source": [
    "# Linear Regression"
   ]
  },
  {
   "cell_type": "code",
   "execution_count": null,
   "metadata": {},
   "outputs": [],
   "source": [
    "from sklearn import datasets\n",
    "from sklearn import linear_model\n",
    "from sklearn.model_selection import train_test_split\n",
    "import seaborn as sns\n",
    "import numpy as np\n",
    "import pandas as pd"
   ]
  },
  {
   "cell_type": "code",
   "execution_count": null,
   "metadata": {},
   "outputs": [],
   "source": [
    "diabetes = datasets.load_diabetes()\n",
    "\n",
    "data = diabetes.data\n",
    "target = diabetes.target\n",
    "features=diabetes.feature_names\n",
    "\n",
    "# train test split\n",
    "X_train, X_test, y_train, y_test = train_test_split(data, target, test_size=0.33, random_state=42)\n",
    "\n",
    "# just for understand data\n",
    "df = pd.DataFrame(X_train, columns=features)\n",
    "df['target'] = y_train"
   ]
  },
  {
   "cell_type": "code",
   "execution_count": null,
   "metadata": {},
   "outputs": [],
   "source": [
    "from sklearn.decomposition import PCA\n",
    "\n",
    "pca = PCA(2)\n",
    "\n",
    "pca.fit(X_train)\n",
    "X_reduc = pca.transform(X_train)\n",
    "\n",
    "pca.explained_variance_ratio_"
   ]
  },
  {
   "cell_type": "code",
   "execution_count": null,
   "metadata": {},
   "outputs": [],
   "source": [
    "# import seaborn as sns\n",
    "\n",
    "# sns.pairplot(df, x_vars=features, y_vars='target', height=7, aspect=.3, kind='reg')"
   ]
  },
  {
   "attachments": {},
   "cell_type": "markdown",
   "metadata": {},
   "source": [
    "Hàm mất mát của Linear Regression là:\n",
    "$~~~\\mathcal{L}(\\mathbf{w,b}) = \\frac{1}{2N}||\\mathbf{y - (\\bar{X}w} +b)||_2^2$\n",
    "\n",
    "Đạo hàm của hàm mất mát là:\n",
    "$~~~\\nabla_{\\mathbf{w}}\\mathcal{L}(\\mathbf{w,b}) = \\frac{1}{N}\\mathbf{\\bar{X}}^T \\mathbf{((\\bar{X}w + b) - y)} ~~~~~(1)$\n",
    "\n",
    "$~~~\\nabla_{\\mathbf{b}}\\mathcal{L}(\\mathbf{w,b}) = \\frac{1}{N}\\mathbf((\\bar{X}w + b) - y) ~~~~~(2)$\n",
    "\n",
    "Cập nhật gradient cho một biến: $~~~~~x_{t+1} = x_{t} - \\eta f’(x_{t})$\n",
    "\n",
    "=> Cập nhật gradient cho Weight và bias:\n",
    "    $\\mathbf{w} \\leftarrow \\mathbf{w} - \\alpha\\nabla_{w}~~~$;\n",
    "    $~~~~~\\mathbf{b} \\leftarrow \\mathbf{b} - \\alpha\\nabla_{b}$"
   ]
  },
  {
   "cell_type": "code",
   "execution_count": null,
   "metadata": {},
   "outputs": [],
   "source": [
    "class LinearRegression():\n",
    "    # Constructor\n",
    "    def __init__(self, learning_rate=0.01, n_iters=1000):\n",
    "        self.lr = learning_rate\n",
    "        self.n_iters = n_iters\n",
    "        self.weights = None\n",
    "        self.bias = None\n",
    "    \n",
    "    # Fit\n",
    "    def fit(self,X, y):\n",
    "        # init parameters\n",
    "        n_samples, n_features = X.shape\n",
    "        self.weights = np.random.rand(n_features)\n",
    "        self.bias = 0\n",
    "        threshold = 0.001\n",
    "        \n",
    "        # gradient descent\n",
    "        for _ in range(self.n_iters):\n",
    "            y_predicted = self.predict(X)\n",
    "            dW = 1/n_samples*X.T@(y_predicted-y)\n",
    "            dB = 1/n_samples*(y_predicted-y)\n",
    "            if np.linalg.norm(dW,2) > threshold:\n",
    "                self.weights -= self.lr*dW\n",
    "                self.bias -= self.lr*np.sum(dB)\n",
    "            else: break\n",
    "        return self\n",
    "    \n",
    "    # Predict \n",
    "    def predict(self, X):\n",
    "        return X@self.weights +self.bias\n",
    "    \n",
    "    # Evaluate by RMSE\n",
    "    def rmse(self,y, y_predicted):\n",
    "        return 1/(2*len(y))*np.sqrt(np.sum((y-y_predicted)**2))"
   ]
  },
  {
   "cell_type": "code",
   "execution_count": null,
   "metadata": {},
   "outputs": [],
   "source": [
    "model = LinearRegression()\n",
    "model.fit(X_train,y_train)\n",
    "\n",
    "y_predicted = model.predict(X_test)\n",
    "\n",
    "model.rmse(y_test, y_predicted)"
   ]
  },
  {
   "cell_type": "code",
   "execution_count": null,
   "metadata": {},
   "outputs": [],
   "source": [
    "from sklearn.metrics import mean_squared_error\n",
    "model_lib = linear_model.LinearRegression().fit(X_train,y_train)\n",
    "\n",
    "y_predicted_lib = model_lib.predict(X_test)\n",
    "\n",
    "model.rmse(y_test, y_predicted_lib)"
   ]
  },
  {
   "attachments": {},
   "cell_type": "markdown",
   "metadata": {},
   "source": [
    "# Cross Validation"
   ]
  },
  {
   "cell_type": "code",
   "execution_count": 53,
   "metadata": {},
   "outputs": [],
   "source": [
    "from sklearn.model_selection import KFold\n",
    "import numpy as np"
   ]
  },
  {
   "cell_type": "code",
   "execution_count": null,
   "metadata": {},
   "outputs": [],
   "source": [
    "# for i, (train_index, test_index) in enumerate(kf):\n",
    "#     print(f\"Fold {i}:\")\n",
    "#     print(f\"  Train: index={train_index}\")\n",
    "#     print(f\"  Test:  index={test_index}\")"
   ]
  },
  {
   "attachments": {},
   "cell_type": "markdown",
   "metadata": {},
   "source": [
    "## Manual"
   ]
  },
  {
   "cell_type": "code",
   "execution_count": 78,
   "metadata": {},
   "outputs": [],
   "source": [
    "n_folds = 5\n",
    "models = []\n",
    "models_rmse = []\n",
    "n_samples,n_features = data.shape\n",
    "for i in range(n_folds):\n",
    "    test_index = np.array([index for index in range(i*(n_samples // n_folds),(i+1)*(n_samples // n_folds) if (i+1)*(n_samples // n_folds) < data.shape[0] else data.shape[0])])\n",
    "    train_index = np.array(list(set([j for j in range(n_samples)]) - set(test_index)))\n",
    "    model = LinearRegression()\n",
    "    model.fit(data[train_index],target[train_index])\n",
    "\n",
    "    y_predicted = model.predict(data[test_index])\n",
    "    rmse = model.rmse(target[test_index], y_predicted)\n",
    "    models.append(model)\n",
    "    models_rmse.append(rmse)"
   ]
  },
  {
   "cell_type": "code",
   "execution_count": 80,
   "metadata": {},
   "outputs": [
    {
     "data": {
      "text/plain": [
       "8.829932441584251"
      ]
     },
     "execution_count": 80,
     "metadata": {},
     "output_type": "execute_result"
    }
   ],
   "source": [
    "np.average(np.array(models_rmse))"
   ]
  }
 ],
 "metadata": {
  "kernelspec": {
   "display_name": "ml",
   "language": "python",
   "name": "python3"
  },
  "language_info": {
   "codemirror_mode": {
    "name": "ipython",
    "version": 3
   },
   "file_extension": ".py",
   "mimetype": "text/x-python",
   "name": "python",
   "nbconvert_exporter": "python",
   "pygments_lexer": "ipython3",
   "version": "3.9.16"
  },
  "orig_nbformat": 4
 },
 "nbformat": 4,
 "nbformat_minor": 2
}
