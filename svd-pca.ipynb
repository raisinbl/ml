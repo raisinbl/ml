{
 "cells": [
  {
   "cell_type": "markdown",
   "metadata": {},
   "source": [
    "# PCA"
   ]
  },
  {
   "cell_type": "markdown",
   "metadata": {},
   "source": [
    "## SVD"
   ]
  },
  {
   "cell_type": "markdown",
   "metadata": {},
   "source": [
    "Singular Value Decomposition:\n",
    "\n",
    "Nó chỉ đơn thuần nói về việc: một ma trận $A$ bất kỳ nào đều có thể phân tách thành 3 ma trận $U, D, V$.\n",
    "> $A = U.D.V^T$\n",
    "> \n",
    "> Trong đó:\n",
    "> \n",
    "> *$U, V$* là hai <u>ma trận trực giao (Orthogonal Matrix)</u>, chứa các Vecto riêng(Eigenvector) của $A.A^T , A^T.A$\n",
    ">> ma trận trực giao thường được ứng dụng trong phép quay với một số tính chất đặc biệt như:\n",
    ">>> - Định thức(Determination) = $\\pm1$ (định thức được dùng để diễn tả mức độ nén \"squish - stretch\" của một đơn vị diện tích khi thực hiện một phép <u>biến đổi(transformation)</u> ma ma trận từ cơ sở này sang cơ sở khác), điều đó đồng nghĩa là khi thực hiện phép biến đổi với Orthogonal Matrix, sẽ được bảo toàn về độ dài của vector cũng như góc giữa các vector. <br> Tham khảo: [Determinant - 3Blue1Brown](https://youtu.be/Ip3X9LOh2dk),\n",
    ">>> - $A^T = A^{-1}$ -> việc biến đổi ma trận chuyển vị sẽ đỡ tốn kém rất nhiều so với việc phải tính toán toàn ma trận nghịch đảo => có thể dùng $A^T$ thay cho $A^{-1}$ trong nhiều tình huống\n",
    ">>\n",
    ">> Trị riêng, Vecto riêng (Eigenvalue, Eigenvector) của một ma trận được diễn tả qua công thức: $A.\\vec{v} = \\lambda.\\vec{v}$<br>\n",
    ">>> - Tức là, tại một Không gian vecto $B$, khi thực hiện phép biến đổi sang không gian vecto $A$ thì mọi vecto của không gian vecto đó sẽ bị thay đổi hướng(direction) trừ các vecto đặc biêt $\\vec{v}$, các vecto đặc biệt $\\vec{v}$ này gọi là *eigenvector* và tương ứng với mỗi *eigenvector* sẽ là một *eigenvalue*,  *eigenvalue* là một đại lượng thể hiện độ stretch của một *eigenvector* ở không gian mới <br>Tham khảo: [Eigenvectors and eigenvalues - 3Blue1Brown](https://youtu.be/PFDu9oVAE-g) <br>\n",
    ">>> - ứng dụng trong việc tính toán ma trận, ví dụ $A^{100}$ cũng chỉ tương đương với $V^{-1}\\lambda^{100}V$ => giảm khối lượng tính toán rất nhiều\n",
    "\n",
    "> nãy giờ nói term  biến đổi(transformation), biến đổi không gian vécto này sang không gian vectơ khác, thì biến đổi ở đây đơn giản là nhân hai ma trận với nhau, $A . B$, theo thứ tự này thì tức là biến đổi không gian véc tơ của B về không gian véc tơ của A, nói dễ hiểu hơn nữa tức là thể hiện một véc tơ dưới góc nhìn của không gian B sang góc nhìn của không gian A \n",
    "\n",
    "> Khi tìm được U và V rồi thì ứng dụng lại tính chất của Orthogonal matrix lại để tìm D<br>\n",
    "> rất hay ở một chỗ  <u>D là một ma trận đường chéo(Diagonal matrix)</u> trong đó các phần tử trên đường chéo của D sẽ có giá trị giảm dần<br>\n",
    "> => vì giảm dần nên ta có thể chọn K cột đầu tiên của D để xấp xỉ ma trận A ban đầu"
   ]
  },
  {
   "cell_type": "markdown",
   "metadata": {},
   "source": [
    "### How to find $U, D, V$  <br>\n",
    "\n",
    "- First, find V and U, by just find the Eigenmatrix of $A^T.A$ and $A.A^T$ <br>\n",
    "- After having V and U, subtitute back to find Sigma(Diagonal Matrix) by: $D = U^T.A.V$\n",
    "\n",
    "From this [video](https://www.youtube.com/watch?v=4tvw-1HI45s)\n"
   ]
  },
  {
   "attachments": {},
   "cell_type": "markdown",
   "metadata": {},
   "source": [
    "![SVD](utils/img/svd.png)"
   ]
  },
  {
   "cell_type": "code",
   "execution_count": 1,
   "metadata": {},
   "outputs": [],
   "source": [
    "import numpy as np\n",
    "from numpy.linalg import svd, eig"
   ]
  },
  {
   "cell_type": "code",
   "execution_count": 2,
   "metadata": {},
   "outputs": [],
   "source": [
    "A = np.array([\n",
    "    [3,1,1],\n",
    "    [1,3,1],\n",
    "])"
   ]
  },
  {
   "cell_type": "code",
   "execution_count": 3,
   "metadata": {},
   "outputs": [],
   "source": [
    "ev_V, V = eig(A.T@A) # result is eigenvalues and eigenvectors with columns as eigenvectors"
   ]
  },
  {
   "cell_type": "code",
   "execution_count": 4,
   "metadata": {},
   "outputs": [],
   "source": [
    "ev_U, U = eig(A@A.T)"
   ]
  },
  {
   "cell_type": "code",
   "execution_count": 5,
   "metadata": {},
   "outputs": [
    {
     "data": {
      "text/plain": [
       "array([[-0.66666667, -0.70710678, -0.23570226],\n",
       "       [-0.66666667,  0.70710678, -0.23570226],\n",
       "       [-0.33333333,  0.        ,  0.94280904]])"
      ]
     },
     "execution_count": 5,
     "metadata": {},
     "output_type": "execute_result"
    }
   ],
   "source": [
    "V.round(10)"
   ]
  },
  {
   "cell_type": "code",
   "execution_count": 6,
   "metadata": {},
   "outputs": [
    {
     "data": {
      "text/plain": [
       "array([[ 0.70710678, -0.70710678],\n",
       "       [ 0.70710678,  0.70710678]])"
      ]
     },
     "execution_count": 6,
     "metadata": {},
     "output_type": "execute_result"
    }
   ],
   "source": [
    "U.round(10)"
   ]
  },
  {
   "cell_type": "code",
   "execution_count": 7,
   "metadata": {},
   "outputs": [],
   "source": [
    "Sigma = U.T@A@V"
   ]
  },
  {
   "cell_type": "code",
   "execution_count": 8,
   "metadata": {},
   "outputs": [
    {
     "data": {
      "text/plain": [
       "array([[-4.24264069, -0.        , -0.        ],\n",
       "       [ 0.        ,  2.        ,  0.        ]])"
      ]
     },
     "execution_count": 8,
     "metadata": {},
     "output_type": "execute_result"
    }
   ],
   "source": [
    "Sigma.round(10)"
   ]
  },
  {
   "cell_type": "markdown",
   "metadata": {},
   "source": [
    "check lại với hàm svd xem sigma với D có giống nhau không"
   ]
  },
  {
   "cell_type": "code",
   "execution_count": 9,
   "metadata": {},
   "outputs": [],
   "source": [
    "U, D, V_T = svd(A)"
   ]
  },
  {
   "cell_type": "code",
   "execution_count": 10,
   "metadata": {},
   "outputs": [
    {
     "data": {
      "text/plain": [
       "array([4.24264069, 2.        ])"
      ]
     },
     "execution_count": 10,
     "metadata": {},
     "output_type": "execute_result"
    }
   ],
   "source": [
    "D"
   ]
  },
  {
   "cell_type": "markdown",
   "metadata": {},
   "source": [
    "nó lại chả giống vcl"
   ]
  }
 ],
 "metadata": {
  "kernelspec": {
   "display_name": "Python 3 (ipykernel)",
   "language": "python",
   "name": "python3"
  },
  "language_info": {
   "codemirror_mode": {
    "name": "ipython",
    "version": 3
   },
   "file_extension": ".py",
   "mimetype": "text/x-python",
   "name": "python",
   "nbconvert_exporter": "python",
   "pygments_lexer": "ipython3",
   "version": "3.8.16"
  }
 },
 "nbformat": 4,
 "nbformat_minor": 2
}
