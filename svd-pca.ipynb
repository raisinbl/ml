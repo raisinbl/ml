{
 "cells": [
  {
   "attachments": {},
   "cell_type": "markdown",
   "metadata": {},
   "source": [
    "# SVD"
   ]
  },
  {
   "attachments": {},
   "cell_type": "markdown",
   "metadata": {},
   "source": [
    "## Definition"
   ]
  },
  {
   "attachments": {},
   "cell_type": "markdown",
   "metadata": {},
   "source": [
    "Singular Value Decomposition:\n",
    "\n",
    "Nó chỉ đơn thuần nói về việc: một ma trận $A$ bất kỳ nào đều có thể phân tách thành 3 ma trận $U, D, V$.\n",
    "> $A = U.D.V^T$\n",
    "> \n",
    "> Trong đó:\n",
    "> \n",
    "> $U, V$ là hai <u>ma trận trực giao (Orthogonal Matrix)</u>, chứa các Vecto riêng(Eigenvector) của $A.A^T , A^T.A$<br>\n",
    "> Ma trận $U, V$ trực giao bởi vì tích hai ma trận $A$ và ma trận chuyển vị $A^T$ là một ma trận đối xứng (liên hệ sang statistic => covariance matrix) mà một ma trận đối xứng bất kỳ luôn có eigenmatrix là một ma trận trực giao\n",
    "> \n",
    "> >In general, for any matrix, the eigenvectors are NOT always orthogonal. But for a special type of matrix, symmetric matrix, the eigenvalues are always real and the corresponding eigenvectors are always orthogonal.<br>\n",
    "> >For any matrix M with n rows and m columns, M multiplies with its transpose, either M*M' or M'M, results in a symmetric matrix, so for this symmetric matrix, the eigenvectors are always orthogonal.<br>\n",
    "> > --[Yue Tyler Jin](https://math.stackexchange.com/a/2154178/958533)\n",
    "> \n",
    ">> ma trận trực giao thường được ứng dụng trong phép quay với một số tính chất đặc biệt như:\n",
    ">>> - Định thức(Determination) = $\\pm1$ (định thức được dùng để diễn tả mức độ nén \"squish - stretch\" của một đơn vị diện tích khi thực hiện một phép <u>biến đổi(transformation)</u> ma trận từ cơ sở này sang cơ sở khác), điều đó đồng nghĩa là khi thực hiện phép biến đổi với Orthogonal Matrix, sẽ được bảo toàn về độ dài của vector cũng như góc giữa các vector. <br> Tham khảo: [Determinant - 3Blue1Brown](https://youtu.be/Ip3X9LOh2dk),\n",
    ">>> - $A^T = A^{-1}$ -> việc biến đổi ma trận chuyển vị sẽ đỡ tốn kém rất nhiều so với việc phải tính toán toàn ma trận nghịch đảo => có thể dùng $A^T$ thay cho $A^{-1}$ trong nhiều tình huống\n",
    ">>\n",
    ">> Trị riêng, Vecto riêng (Eigenvalue, Eigenvector) của một ma trận được diễn tả qua công thức: $A.\\vec{v} = \\lambda.\\vec{v}$<br>\n",
    ">>> - Tức là, tại một Không gian vecto $B$, khi thực hiện phép biến đổi sang không gian vecto $A$ thì mọi vecto của không gian vecto đó sẽ bị thay đổi hướng(direction) trừ các vecto đặc biêt $\\vec{v}$, các vecto đặc biệt $\\vec{v}$ này gọi là *eigenvector* và tương ứng với mỗi *eigenvector* sẽ là một *eigenvalue*,  *eigenvalue* là một đại lượng thể hiện độ stretch của một *eigenvector* ở không gian mới <br>Tham khảo: [Eigenvectors and eigenvalues - 3Blue1Brown](https://youtu.be/PFDu9oVAE-g) <br>\n",
    ">>> - ứng dụng trong việc tính toán ma trận, ví dụ $A^{100}$ cũng chỉ tương đương với $V^{-1}\\lambda^{100}V$ => giảm khối lượng tính toán rất nhiều\n",
    "\n",
    "> nãy giờ nói term  biến đổi(transformation), biến đổi không gian vécto này sang không gian vectơ khác, thì biến đổi ở đây đơn giản là nhân hai ma trận với nhau, $A . B$, theo thứ tự này thì tức là biến đổi không gian véc tơ của B về không gian véc tơ của A, nói dễ hiểu hơn nữa tức là thể hiện một véc tơ dưới góc nhìn của không gian B sang góc nhìn của không gian A \n",
    "\n",
    "> Khi tìm được U và V rồi thì ứng dụng lại tính chất của Orthogonal matrix lại để tìm D<br>\n",
    "> rất hay ở một chỗ  <u>D là một ma trận đường chéo(Diagonal matrix)</u> trong đó các phần tử trên đường chéo của D sẽ có giá trị không âm, giảm dần<br>\n",
    "> => vì giảm dần nên ta có thể chọn K cột đầu tiên của D để xấp xỉ ma trận A ban đầu"
   ]
  },
  {
   "attachments": {},
   "cell_type": "markdown",
   "metadata": {},
   "source": [
    "> Tóm gọn trong bài toán SVD, eigenvector dùng để tìm ra hai ma trận $U, V$, hai ma trận này là hai ma trận trực giao => rất dễ để tính toán<br>\n",
    "qua đó, quay ngược lại để tính ma trận chéo $D$"
   ]
  },
  {
   "attachments": {},
   "cell_type": "markdown",
   "metadata": {},
   "source": [
    "## Implement  <br>\n",
    "\n",
    "- First, find V and U, by just find the Eigenmatrix of $A^T.A$ and $A.A^T$ <br>\n",
    "- After having V and U, subtitute back to find Sigma(Diagonal Matrix) by: $D = U^T.A.V$\n",
    "\n",
    "From this [video](https://www.youtube.com/watch?v=4tvw-1HI45s)\n"
   ]
  },
  {
   "attachments": {},
   "cell_type": "markdown",
   "metadata": {},
   "source": [
    "![SVD](utils/img/svd-pca/svd.png)"
   ]
  },
  {
   "attachments": {},
   "cell_type": "markdown",
   "metadata": {},
   "source": [
    "#### Import lib and init matrix"
   ]
  },
  {
   "cell_type": "code",
   "execution_count": 2,
   "metadata": {},
   "outputs": [],
   "source": [
    "import numpy as np\n",
    "from numpy.linalg import svd, eig"
   ]
  },
  {
   "cell_type": "code",
   "execution_count": 3,
   "metadata": {},
   "outputs": [],
   "source": [
    "# seed\n",
    "np.random.seed(42)\n",
    "A = np.random.rand(10, 5)"
   ]
  },
  {
   "attachments": {},
   "cell_type": "markdown",
   "metadata": {},
   "source": [
    "#### Manually SVD"
   ]
  },
  {
   "cell_type": "code",
   "execution_count": 4,
   "metadata": {},
   "outputs": [],
   "source": [
    "# `eig` return eigenvalues and eigenmatrix with columns as normalized eigenvectors\n",
    "ev_U, U = eig(A@A.T)\n",
    "ev_V, V = eig(A.T@A)\n",
    "# After finding U and V, subtitute back them to find Diagonal matrix\n",
    "Sigma = U.T@A@V\n",
    "\n",
    "# Reconstruct A\n",
    "A_recon = U@Sigma@V.T"
   ]
  },
  {
   "attachments": {},
   "cell_type": "markdown",
   "metadata": {},
   "source": [
    "#### Numpy.linalg.SVD"
   ]
  },
  {
   "cell_type": "code",
   "execution_count": 5,
   "metadata": {},
   "outputs": [],
   "source": [
    "# Using SVD built in function of numpy to test the result\n",
    "U_np, D, V_np_T = svd(A)\n",
    "\n",
    "# Reconstruct A \n",
    "\n",
    "# diagonalize D, and padding zeros to make it same size as right singular matrix\n",
    "sigma = np.pad(np.diag(D), ((0, A.shape[0]-A.shape[1] if A.shape[0]>A.shape[1] else 0), (0, A.shape[1]-A.shape[0] if A.shape[0]<A.shape[1] else 0)), 'constant', constant_values=0)\n",
    "\n",
    "A_np_recon = U_np@sigma@V_np_T"
   ]
  },
  {
   "attachments": {},
   "cell_type": "markdown",
   "metadata": {},
   "source": [
    "## Note"
   ]
  },
  {
   "attachments": {},
   "cell_type": "markdown",
   "metadata": {},
   "source": [
    "> There a slightly different in the result of U,D,V when calculate manually and by numpy function, but it is okay, because `numpy` has been take the absolute value and sorted on Diagonal matrix, but that's okay because:<br>\n",
    "\n",
    "![image.png](utils/img/svd-pca/svd_truncated.png)"
   ]
  },
  {
   "attachments": {},
   "cell_type": "markdown",
   "metadata": {},
   "source": [
    "👉 nên để có SVD giống với numpy thì cần sort eigenvalue ở D theo abs, có thể làm cái mask cũng được rồi đưa các cột ở U, V_T theo vị trí của D"
   ]
  },
  {
   "attachments": {},
   "cell_type": "markdown",
   "metadata": {},
   "source": [
    "# PCA"
   ]
  },
  {
   "attachments": {},
   "cell_type": "markdown",
   "metadata": {},
   "source": [
    "--------------------------\n",
    "## Note"
   ]
  },
  {
   "attachments": {},
   "cell_type": "markdown",
   "metadata": {},
   "source": [
    "### Explain why eigenvalue cruical in this problem\n",
    "[Answer by @amoeba](https://stats.stackexchange.com/a/219344)\n",
    "\n",
    "#### Problem statement\n",
    "\n",
    "> The geometric problem that PCA is trying to optimize is clear to me: PCA tries to find the first principal component by minimizing the reconstruction (projection) error, which simultaneously maximizes the variance of the projected data.\n",
    "\n",
    "....\n",
    "\n",
    "Let's take the second formulation: **PCA is trying the find the direction such that the projection of the data on it has the highest possible variance**. This direction is, by definition, called the first principal direction. We can formalize it as follows: given the covariance matrix $C$, we are looking for a vector $w$ having unit length, $∥w∥=1$, such that $w^⊤Cw$ is maximal.\n",
    "\n",
    "(Just in case this is not clear: if $X$ is the centered data matrix, then the projection is given by $Xw$ and its variance is\n",
    " $ \\frac{1}{n-1}(Xw)^{\\top} \\cdot Xw = w^{\\top} \\cdot \\left(\\frac{1}{n-1}X^{\\top}X\\right) \\cdot w = w^{\\top}Cw $)\n",
    "\n",
    "On the other hand, an eigenvector of $C$ is, by definition, any vector $v$ such that $Cv=λv$.\n",
    "\n",
    "**It turns out that the first principal direction is given by the eigenvector with the largest eigenvalue. This is a nontrivial and surprising statement.**\n",
    "\n",
    "-----------------------------------------------------------\n",
    "\n",
    "#### Proofs\n",
    "\n",
    "If one opens any book or tutorial on PCA, one can find there the following almost one-line proof of the statement above. We want to maximize $w^⊤Cw$ under the constraint that $∥w∥=w⊤w=1$; <br>this can be done introducing a <u>Lagrange multiplier and maximizing $w^⊤Cw−λ(w^⊤w−1)$</u>; differentiating, we obtain $Cw−λw=0$, which is the eigenvector equation. We see that $λ$ has in fact to be the largest eigenvalue by substituting this solution into the objective function, which gives $w^⊤Cw−λ(w^⊤w−1)=w^⊤Cw=λw^⊤w=λ$\n",
    ". By virtue of the fact that this objective function should be maximized, $λ$\n",
    " must be the largest eigenvalue, QED.\n",
    "\n",
    "This tends to be not very intuitive for most people.\n",
    "\n",
    "-----------------------------------------------------------\n",
    "\n",
    "### Tóm lại:\n",
    "\n",
    "Vấn đề cần làm đó là: Maximize cái Variance của Data khi chiếu lên chiều không gian mới và cái giá trị maximize đạt được bằng the-maximum-eigenvalue $λ$ (chứng minh trên); dấu bằng xảy ra khi và chỉ khi $w$ là eigenvector của eigenvalue $λ$ đó, và điều đó cũng nói được rằng là $w$ chính là những basis eigenvector của Covariance Matrix"
   ]
  },
  {
   "attachments": {},
   "cell_type": "markdown",
   "metadata": {},
   "source": [
    "### How to reverse PCA and reconstruct original variables from several principal components?\n",
    "\n",
    "[Answer by @amoeba](https://stats.stackexchange.com/a/229093)\n",
    "\n",
    "rõ ràng giờ ta đã biết, giờ với tập hợp eigenvectors của Covariance Matrix, thì ta có thể chiếu Data X xuống chiều không gian vector của eigenvectors (tạm gọi là $V$) mà vẫn giữ được toàn bộ lượng Variance, giả sử V đã giữ những eigenvectors nắm đa số lượng thông tin cần thiết\n",
    "\n",
    "Data mới tại chiều không gian vector V: $Z = X.V$\n",
    "\n",
    "$=>$ recontruct X kiểu gì?: đơn giản $Z.V^{-1}$ mà V là ma trận trực giao thế nên là $Z.V^{-1} = Z.V^T$ -> điều đấy sẽ càng nói thêm khi mà cái V giữ càng nhiều eigenvector, thì lượng thông tin được bảo toàn sẽ càng lớn, nếu dùng nguyên ma trận V ban đầu sẽ giữ được nguyên X"
   ]
  },
  {
   "attachments": {},
   "cell_type": "markdown",
   "metadata": {},
   "source": [
    "### PCA objective function: what is the connection between maximizing variance and minimizing error?\n",
    "\n",
    "[Answer by @amoeba](https://stats.stackexchange.com/a/136072)\n",
    "\n",
    "<img src=\"utils/img/svd-pca/pca_is_not_linear_regression.png\" alt=\"image\" width=\"800\" height=\"400\"/>"
   ]
  },
  {
   "attachments": {},
   "cell_type": "markdown",
   "metadata": {},
   "source": [
    "### Relationship between SVD and PCA. How to use SVD to perform PCA?\n",
    "\n",
    "[Answer by @amoeba](https://stats.stackexchange.com/a/134283)"
   ]
  },
  {
   "attachments": {},
   "cell_type": "markdown",
   "metadata": {},
   "source": [
    "------------------------------------------\n",
    "\n",
    "## Implement"
   ]
  },
  {
   "cell_type": "markdown",
   "metadata": {},
   "source": [
    "<img src=\"utils/img/svd-pca/pca_procedure.png\" alt=\"image\" width=\"800\" height=\"600\"/>"
   ]
  },
  {
   "attachments": {},
   "cell_type": "markdown",
   "metadata": {},
   "source": [
    "### Import lib and init"
   ]
  },
  {
   "cell_type": "code",
   "execution_count": 40,
   "metadata": {},
   "outputs": [],
   "source": [
    "import numpy as np\n",
    "from numpy.linalg import eig, svd\n",
    "from sklearn.decomposition import PCA"
   ]
  },
  {
   "cell_type": "code",
   "execution_count": 2,
   "metadata": {},
   "outputs": [],
   "source": [
    "# seed and generate random matrix\n",
    "\n",
    "np.random.seed(42)\n",
    "A = np.random.rand(10, 5)"
   ]
  },
  {
   "attachments": {},
   "cell_type": "markdown",
   "metadata": {},
   "source": [
    "### Manual PCA"
   ]
  },
  {
   "cell_type": "code",
   "execution_count": 47,
   "metadata": {},
   "outputs": [],
   "source": [
    "# Standardize the data\n",
    "A_std = (A - A.mean(axis=0))\n",
    "\n",
    "# Calculate covariance matrix\n",
    "cov = np.cov(A_std, rowvar=False)\n",
    "\n",
    "# Find eigenvalues and eigenvectors of covariance matrix\n",
    "ev, V = eig(cov)\n",
    "\n",
    "# Sort eigenvalues and eigenvectors\n",
    "idx = ev.argsort()[::-1]\n",
    "ev = ev[idx]\n",
    "V = V[:, idx]\n",
    "\n",
    "# Find principal components | Projection of A_std to V\n",
    "PC = A_std@V\n",
    "\n",
    "# Reconstruct A | The data point in new space\n",
    "A_recon = PC@V.T\n",
    "\n",
    "# Calculate percentage of variance explained by each principal components\n",
    "var_exp = np.cumsum(ev)/np.sum(ev)"
   ]
  },
  {
   "cell_type": "code",
   "execution_count": 49,
   "metadata": {},
   "outputs": [],
   "source": [
    "# Choose the number of principal components that explain 95% of variance\n",
    "n = np.argmax(var_exp>0.95)+1"
   ]
  },
  {
   "attachments": {},
   "cell_type": "markdown",
   "metadata": {},
   "source": [
    "### Sklearn PCA"
   ]
  },
  {
   "cell_type": "code",
   "execution_count": 50,
   "metadata": {},
   "outputs": [],
   "source": [
    "# Use sklearn PCA to test the result\n",
    "pca = PCA(n_components=n)\n",
    "\n",
    "pca = pca.fit(A_std)\n",
    "\n",
    "# new data points in new space\n",
    "A_recon_lib = pca.transform(A_std)\n",
    "\n",
    "# percentage of variance explained by each principal components\n",
    "var_exp_lib = pca.explained_variance_ratio_\n",
    "\n",
    "# principal components\n",
    "PC_lib = pca.components_"
   ]
  }
 ],
 "metadata": {
  "kernelspec": {
   "display_name": "Python 3 (ipykernel)",
   "language": "python",
   "name": "python3"
  },
  "language_info": {
   "codemirror_mode": {
    "name": "ipython",
    "version": 3
   },
   "file_extension": ".py",
   "mimetype": "text/x-python",
   "name": "python",
   "nbconvert_exporter": "python",
   "pygments_lexer": "ipython3",
   "version": "3.9.16"
  }
 },
 "nbformat": 4,
 "nbformat_minor": 2
}
